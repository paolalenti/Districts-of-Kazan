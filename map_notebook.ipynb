{
 "cells": [
  {
   "cell_type": "code",
   "execution_count": 1,
   "id": "642d19be-bf83-457b-9c3c-b0a086647250",
   "metadata": {},
   "outputs": [
    {
     "name": "stderr",
     "output_type": "stream",
     "text": [
      "C:\\Users\\Владелец\\AppData\\Local\\Temp\\ipykernel_6520\\4179423884.py:1: DeprecationWarning: \n",
      "Pyarrow will become a required dependency of pandas in the next major release of pandas (pandas 3.0),\n",
      "(to allow more performant data types, such as the Arrow string type, and better interoperability with other libraries)\n",
      "but was not found to be installed on your system.\n",
      "If this would cause problems for you,\n",
      "please provide us feedback at https://github.com/pandas-dev/pandas/issues/54466\n",
      "        \n",
      "  import pandas as pd\n"
     ]
    }
   ],
   "source": [
    "import pandas as pd\n",
    "from map_renderer import MapRenderer"
   ]
  },
  {
   "cell_type": "markdown",
   "id": "535eecb0-5d7b-4bce-9d46-89edc41e888b",
   "metadata": {},
   "source": [
    "Вместо многоточия ниже подставьте путь к своему .csv-файлу"
   ]
  },
  {
   "cell_type": "code",
   "execution_count": 2,
   "id": "b75df7c8-032e-4fc4-b454-e6c60144ea4c",
   "metadata": {},
   "outputs": [],
   "source": [
    "points_df = pd.read_csv(\"points.csv\")\n",
    "districts_df = pd.read_csv('data.csv')"
   ]
  },
  {
   "cell_type": "code",
   "execution_count": 3,
   "id": "2a2f356f-7a1d-4e63-a394-55b046ddf584",
   "metadata": {},
   "outputs": [
    {
     "data": {
      "text/html": [
       "<div>\n",
       "<style scoped>\n",
       "    .dataframe tbody tr th:only-of-type {\n",
       "        vertical-align: middle;\n",
       "    }\n",
       "\n",
       "    .dataframe tbody tr th {\n",
       "        vertical-align: top;\n",
       "    }\n",
       "\n",
       "    .dataframe thead th {\n",
       "        text-align: right;\n",
       "    }\n",
       "</style>\n",
       "<table border=\"1\" class=\"dataframe\">\n",
       "  <thead>\n",
       "    <tr style=\"text-align: right;\">\n",
       "      <th></th>\n",
       "      <th>district</th>\n",
       "      <th>points</th>\n",
       "      <th>center</th>\n",
       "      <th>color</th>\n",
       "    </tr>\n",
       "  </thead>\n",
       "  <tbody>\n",
       "    <tr>\n",
       "      <th>0</th>\n",
       "      <td>Советский р-н</td>\n",
       "      <td>[(55.74933053, 49.28282012), (55.75022275, 49....</td>\n",
       "      <td>(55.80800713066667, 49.23475830866666)</td>\n",
       "      <td>green</td>\n",
       "    </tr>\n",
       "    <tr>\n",
       "      <th>1</th>\n",
       "      <td>Кировский р-н</td>\n",
       "      <td>[(55.79157857, 49.05581216), (55.79457119, 49....</td>\n",
       "      <td>(55.81102103666666, 49.04412378777778)</td>\n",
       "      <td>blue</td>\n",
       "    </tr>\n",
       "    <tr>\n",
       "      <th>2</th>\n",
       "      <td>Приволжский р-н</td>\n",
       "      <td>[(55.68995762, 49.14355671), (55.69440841, 49....</td>\n",
       "      <td>(55.731507220000005, 49.181574616000006)</td>\n",
       "      <td>yellow</td>\n",
       "    </tr>\n",
       "    <tr>\n",
       "      <th>3</th>\n",
       "      <td>Московский р-н</td>\n",
       "      <td>[(55.81703343, 49.09114806), (55.82896952, 49....</td>\n",
       "      <td>(55.834447533, 49.06333975700001)</td>\n",
       "      <td>red</td>\n",
       "    </tr>\n",
       "    <tr>\n",
       "      <th>4</th>\n",
       "      <td>Авиастроительный р-н</td>\n",
       "      <td>[(55.84475643, 49.0878232), (55.84693701, 49.0...</td>\n",
       "      <td>(55.85295345, 49.09202872666666)</td>\n",
       "      <td>pink</td>\n",
       "    </tr>\n",
       "    <tr>\n",
       "      <th>5</th>\n",
       "      <td>Ново-Савиновский р-н</td>\n",
       "      <td>[(55.81224943, 49.10959414), (55.81294515, 49....</td>\n",
       "      <td>(55.83223348181818, 49.12888424181818)</td>\n",
       "      <td>white</td>\n",
       "    </tr>\n",
       "    <tr>\n",
       "      <th>6</th>\n",
       "      <td>Вахитовский р-н</td>\n",
       "      <td>[(55.75989995, 49.08043905), (55.76170341, 49....</td>\n",
       "      <td>(55.78264653, 49.131436175)</td>\n",
       "      <td>black</td>\n",
       "    </tr>\n",
       "    <tr>\n",
       "      <th>7</th>\n",
       "      <td>Верхнеуслонский р-н</td>\n",
       "      <td>[(55.75396248, 48.99221216), (55.7601299, 48.9...</td>\n",
       "      <td>(55.76591322875001, 48.987445281250004)</td>\n",
       "      <td>brown</td>\n",
       "    </tr>\n",
       "  </tbody>\n",
       "</table>\n",
       "</div>"
      ],
      "text/plain": [
       "               district                                             points  \\\n",
       "0         Советский р-н  [(55.74933053, 49.28282012), (55.75022275, 49....   \n",
       "1         Кировский р-н  [(55.79157857, 49.05581216), (55.79457119, 49....   \n",
       "2       Приволжский р-н  [(55.68995762, 49.14355671), (55.69440841, 49....   \n",
       "3        Московский р-н  [(55.81703343, 49.09114806), (55.82896952, 49....   \n",
       "4  Авиастроительный р-н  [(55.84475643, 49.0878232), (55.84693701, 49.0...   \n",
       "5  Ново-Савиновский р-н  [(55.81224943, 49.10959414), (55.81294515, 49....   \n",
       "6       Вахитовский р-н  [(55.75989995, 49.08043905), (55.76170341, 49....   \n",
       "7   Верхнеуслонский р-н  [(55.75396248, 48.99221216), (55.7601299, 48.9...   \n",
       "\n",
       "                                     center   color  \n",
       "0    (55.80800713066667, 49.23475830866666)   green  \n",
       "1    (55.81102103666666, 49.04412378777778)    blue  \n",
       "2  (55.731507220000005, 49.181574616000006)  yellow  \n",
       "3         (55.834447533, 49.06333975700001)     red  \n",
       "4          (55.85295345, 49.09202872666666)    pink  \n",
       "5    (55.83223348181818, 49.12888424181818)   white  \n",
       "6               (55.78264653, 49.131436175)   black  \n",
       "7   (55.76591322875001, 48.987445281250004)   brown  "
      ]
     },
     "execution_count": 3,
     "metadata": {},
     "output_type": "execute_result"
    }
   ],
   "source": [
    "districts_df"
   ]
  },
  {
   "cell_type": "code",
   "execution_count": 4,
   "id": "144f548b-7f96-48bb-9225-29ecd2f057f9",
   "metadata": {},
   "outputs": [
    {
     "data": {
      "application/vnd.jupyter.widget-view+json": {
       "model_id": "644649996b5841d1be9c807b07257bf3",
       "version_major": 2,
       "version_minor": 0
      },
      "text/plain": [
       "Map(center=[55.78052497, 49.10521653], controls=(ZoomControl(options=['position', 'zoom_in_text', 'zoom_in_tit…"
      ]
     },
     "execution_count": 4,
     "metadata": {},
     "output_type": "execute_result"
    }
   ],
   "source": [
    "renderer = MapRenderer(districts_df, points_df)\n",
    "renderer.get_map()"
   ]
  },
  {
   "cell_type": "code",
   "execution_count": null,
   "id": "2f19f8e5-57a0-4e71-8c99-caa27fd5d80b",
   "metadata": {},
   "outputs": [],
   "source": []
  },
  {
   "cell_type": "code",
   "execution_count": null,
   "id": "c0bc3c25-ce0a-4db8-9a8d-fa79448e2ddc",
   "metadata": {},
   "outputs": [],
   "source": []
  }
 ],
 "metadata": {
  "kernelspec": {
   "display_name": "Python 3 (ipykernel)",
   "language": "python",
   "name": "python3"
  },
  "language_info": {
   "codemirror_mode": {
    "name": "ipython",
    "version": 3
   },
   "file_extension": ".py",
   "mimetype": "text/x-python",
   "name": "python",
   "nbconvert_exporter": "python",
   "pygments_lexer": "ipython3",
   "version": "3.12.2"
  }
 },
 "nbformat": 4,
 "nbformat_minor": 5
}
